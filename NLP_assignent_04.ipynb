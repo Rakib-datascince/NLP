{
  "nbformat": 4,
  "nbformat_minor": 0,
  "metadata": {
    "colab": {
      "provenance": [],
      "authorship_tag": "ABX9TyPKCce3rcIQIXGBYbkI/MZN",
      "include_colab_link": true
    },
    "kernelspec": {
      "name": "python3",
      "display_name": "Python 3"
    },
    "language_info": {
      "name": "python"
    }
  },
  "cells": [
    {
      "cell_type": "markdown",
      "metadata": {
        "id": "view-in-github",
        "colab_type": "text"
      },
      "source": [
        "<a href=\"https://colab.research.google.com/github/Rakib-datascince/NLP/blob/main/NLP_assignent_04.ipynb\" target=\"_parent\"><img src=\"https://colab.research.google.com/assets/colab-badge.svg\" alt=\"Open In Colab\"/></a>"
      ]
    },
    {
      "cell_type": "code",
      "execution_count": null,
      "metadata": {
        "id": "kWJ74BM4eNAR"
      },
      "outputs": [],
      "source": [
        "\n",
        "Assignment 04 Solutions\n",
        "1. Can you think of a few applications for a sequence-to-sequence RNN? What about a sequence-to-vector RNN? And a vector-to-sequence RNN?\n",
        " \n",
        "2. Why do people use encoder–decoder RNNs rather than plain sequence-to-sequence RNNs for automatic translation?\n",
        " \n",
        "3. How could you combine a convolutional neural network with an RNN to classify videos?\n",
        " \n",
        "4. What are the advantages of building an RNN using dynamic_rnn() rather than static_rnn()?\n",
        " \n",
        "5. How can you deal with variable-length input sequences? What about variable-length output sequences?\n",
        " \n",
        "6. What is a common way to distribute training and execution of a deep RNN across multiple GPUs?\n",
        " "
      ]
    }
  ]
}